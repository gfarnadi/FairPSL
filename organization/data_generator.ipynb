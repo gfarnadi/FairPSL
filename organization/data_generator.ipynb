{
 "cells": [
  {
   "cell_type": "code",
   "execution_count": 1,
   "metadata": {},
   "outputs": [],
   "source": [
    "import os, shutil\n",
    "import numpy \n",
    "import random\n",
    "from random import shuffle"
   ]
  },
  {
   "cell_type": "code",
   "execution_count": 2,
   "metadata": {},
   "outputs": [],
   "source": [
    "def generate_qualification(user_dict, quality_file, quality_rate):\n",
    "    quality_dict = {}\n",
    "    with open(quality_file,'w') as qf:\n",
    "        for user in user_dict.keys():\n",
    "            if random.random()<(1-quality_rate):\n",
    "                quality_dict[user] = 0\n",
    "                print('%s\\t0'%(user), file=qf)\n",
    "            else:\n",
    "                quality_dict[user] = 1\n",
    "                print('%s\\t1'%(user), file=qf)\n",
    "    return quality_dict"
   ]
  },
  {
   "cell_type": "code",
   "execution_count": 3,
   "metadata": {},
   "outputs": [],
   "source": [
    "def read_user_data(user_file):\n",
    "    user_dict = {}\n",
    "    with open(user_file, \"r\") as uf:\n",
    "        lines = uf.readlines()\n",
    "        for line in lines:\n",
    "            info = line.split('\\t')\n",
    "            user_dict[info[0]] = info[1]\n",
    "    return user_dict"
   ]
  },
  {
   "cell_type": "code",
   "execution_count": 4,
   "metadata": {},
   "outputs": [],
   "source": [
    "def generate_data(user_file, quality_file, feedback_file, submission_rate_f, submission_rate_m, feedback_equal_p, feedback_equal_n, feedback_notequal_p, feedback_notequal_n, quality_rate):\n",
    "    user_dict = read_user_data(user_file)\n",
    "    quality_dict = generate_qualification(user_dict, quality_file, quality_rate)\n",
    "    with open(feedback_file, \"w\") as ff:\n",
    "        #user1: is feedback giver and user2: is feedback reciever\n",
    "        for user1,label1 in user_dict.items():\n",
    "            for user2, label2 in user_dict.items():\n",
    "                if user1==user2:\n",
    "                    pass\n",
    "                else:\n",
    "                    if label1=='f':\n",
    "                        if random.random()<submission_rate_f:\n",
    "                            if label1==label2:\n",
    "                                if quality_dict[user2]==1:\n",
    "                                    if random.random()<feedback_equal_p:\n",
    "                                        print('%s\\t%s\\t1'%(user1,user2), file =ff)\n",
    "                                    else:\n",
    "                                        print('%s\\t%s\\t0'%(user1,user2), file =ff)\n",
    "                                else:\n",
    "                                    if random.random()<feedback_equal_n:\n",
    "                                        print('%s\\t%s\\t1'%(user1,user2), file =ff)\n",
    "                                    else:\n",
    "                                        print('%s\\t%s\\t0'%(user1,user2), file =ff)\n",
    "                            else:\n",
    "                                if quality_dict[user2]==1:\n",
    "                                    if random.random()<feedback_notequal_p:\n",
    "                                        print('%s\\t%s\\t1'%(user1,user2), file =ff)\n",
    "                                    else:\n",
    "                                        print('%s\\t%s\\t0'%(user1,user2), file =ff)\n",
    "                                else:\n",
    "                                    if random.random()<feedback_notequal_n:\n",
    "                                        print('%s\\t%s\\t1'%(user1,user2), file =ff)\n",
    "                                    else:\n",
    "                                        print('%s\\t%s\\t0'%(user1,user2), file =ff)\n",
    "                    else:\n",
    "                        if random.random()<submission_rate_m:\n",
    "                            if label1==label2:\n",
    "                                if quality_dict[user2]==1:\n",
    "                                    if random.random()<feedback_equal_p:\n",
    "                                        print('%s\\t%s\\t1'%(user1,user2), file =ff)\n",
    "                                    else:\n",
    "                                        print('%s\\t%s\\t0'%(user1,user2), file =ff)\n",
    "                                else:\n",
    "                                    if random.random()<feedback_equal_n:\n",
    "                                        print('%s\\t%s\\t1'%(user1,user2), file =ff)\n",
    "                                    else:\n",
    "                                        print('%s\\t%s\\t0'%(user1,user2), file =ff)\n",
    "                            else:\n",
    "                                if quality_dict[user2]==1:\n",
    "                                    if random.random()<feedback_notequal_p:\n",
    "                                        print('%s\\t%s\\t1'%(user1,user2), file =ff)\n",
    "                                    else:\n",
    "                                        print('%s\\t%s\\t0'%(user1,user2), file =ff)\n",
    "                                else:\n",
    "                                    if random.random()<feedback_notequal_n:\n",
    "                                        print('%s\\t%s\\t1'%(user1,user2), file =ff)\n",
    "                                    else:\n",
    "                                        print('%s\\t%s\\t0'%(user1,user2), file =ff)\n",
    "                                "
   ]
  },
  {
   "cell_type": "code",
   "execution_count": 5,
   "metadata": {},
   "outputs": [],
   "source": [
    "user_file = './data/gender.txt'\n",
    "quality_file = './data/1/quality.txt'\n",
    "feedback_file='./data/1/feedback.txt'\n",
    "feedback_equal_p = 0.9\n",
    "feedback_equal_n = 0.05\n",
    "feedback_notequal_p =0.5\n",
    "feedback_notequal_n =0.01\n",
    "submission_rate_f = 0.1\n",
    "submission_rate_m = 0.3\n",
    "quality_rate = 0.3\n",
    "generate_data(user_file, quality_file, feedback_file, submission_rate_f, submission_rate_m, feedback_equal_p, feedback_equal_n, feedback_notequal_p, feedback_notequal_n, quality_rate)"
   ]
  },
  {
   "cell_type": "code",
   "execution_count": null,
   "metadata": {},
   "outputs": [],
   "source": []
  }
 ],
 "metadata": {
  "kernelspec": {
   "display_name": "Python 3",
   "language": "python",
   "name": "python3"
  },
  "language_info": {
   "codemirror_mode": {
    "name": "ipython",
    "version": 3
   },
   "file_extension": ".py",
   "mimetype": "text/x-python",
   "name": "python",
   "nbconvert_exporter": "python",
   "pygments_lexer": "ipython3",
   "version": "3.7.1"
  }
 },
 "nbformat": 4,
 "nbformat_minor": 2
}
