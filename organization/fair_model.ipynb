{
 "cells": [
  {
   "cell_type": "code",
   "execution_count": 1,
   "metadata": {},
   "outputs": [
    {
     "name": "stdout",
     "output_type": "stream",
     "text": [
      "1\n",
      "RD\n",
      "0.1\n"
     ]
    }
   ],
   "source": [
    "from fair_grounding import fairGrounding\n",
    "from inference import mapInference, fairMapInference\n",
    "from fair_evaluation import evaluate, accuracy\n",
    "from data_generator import saveFile\n",
    "\n",
    "def runModel(dataPath,epsilon,fairMeasureCode):\n",
    "    rules, hard_rules, counts, _ = fairGrounding(dataPath)\n",
    "    results = mapInference(rules, hard_rules)\n",
    "    print (results)\n",
    "    print(evaluate(results, counts))\n",
    "    results = fairMapInference(rules, hard_rules, counts, epsilon,fairMeasureCode)\n",
    "    print (results)\n",
    "    print(evaluate(results, counts,fairMeasureCode))\n",
    "    \n",
    "    \n",
    "\n",
    "def runExperiment(dataPath, resultPath):\n",
    "    #epsilons = [0.001,0.005, 0.01, 0.05, 0.1,0.5]\n",
    "    epsilons = [0.1]\n",
    "    fairMeasureCodes = ['RD']\n",
    "    #fairMeasureCodes = ['RD', 'RR', 'RC']\n",
    "    i=1\n",
    "    text = ''\n",
    "    while i<=1:\n",
    "        print (i)\n",
    "        text+='dataset No.'+str(i)+'\\n' \n",
    "        text+='---------------------------'+'\\n'\n",
    "        text+='---------------------------'+'\\n'\n",
    "        rules, hard_rules, counts, atoms = fairGrounding(dataPath+str(i)+'/')\n",
    "        for code in fairMeasureCodes:\n",
    "            print(code)\n",
    "            results = mapInference(rules, hard_rules)\n",
    "            accuracyScore = accuracy(dataPath+str(i)+'/', results, atoms)\n",
    "            score = evaluate(results, counts,code)\n",
    "            \n",
    "            text+='----------'+code+'---------------'+'\\n'\n",
    "            text+='----------PSL--------------'+'\\n'\n",
    "            line = ''\n",
    "            for epsilon in epsilons:\n",
    "                text+=str(score)+'\\t'\n",
    "                line+=str(accuracyScore)+'\\t'\n",
    "            \n",
    "            text+='\\n'+line+'\\n'+'----------FairPSL----------'+'\\n'\n",
    "            line = ''\n",
    "            for epsilon in epsilons:\n",
    "                print(epsilon)\n",
    "                results = fairMapInference(rules, hard_rules, counts, epsilon,code)\n",
    "                accuracyScore = accuracy(dataPath+str(i)+'/', results, atoms)\n",
    "                line+=str(accuracyScore)+'\\t'\n",
    "                score = evaluate(results, counts,code)\n",
    "                text+=str(score)+'\\t'\n",
    "            text+='\\n'\n",
    "            text+=line+'\\n'\n",
    "        text+='---------------------------'+'\\n'\n",
    "        text+='---------------------------'+'\\n'\n",
    "        i+=1  \n",
    "    saveFile(resultPath,text)\n",
    "            \n",
    "                \n",
    "            \n",
    "dataPath = '../organization/data/' \n",
    "resultPath = '../organization/results.txt'\n",
    "runExperiment(dataPath, resultPath)    "
   ]
  },
  {
   "cell_type": "code",
   "execution_count": null,
   "metadata": {},
   "outputs": [],
   "source": []
  },
  {
   "cell_type": "code",
   "execution_count": null,
   "metadata": {},
   "outputs": [],
   "source": []
  }
 ],
 "metadata": {
  "kernelspec": {
   "display_name": "Python 3",
   "language": "python",
   "name": "python3"
  },
  "language_info": {
   "codemirror_mode": {
    "name": "ipython",
    "version": 3
   },
   "file_extension": ".py",
   "mimetype": "text/x-python",
   "name": "python",
   "nbconvert_exporter": "python",
   "pygments_lexer": "ipython3",
   "version": "3.7.4"
  }
 },
 "nbformat": 4,
 "nbformat_minor": 2
}
