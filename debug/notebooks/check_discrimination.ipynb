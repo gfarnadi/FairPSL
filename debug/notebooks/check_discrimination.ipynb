{
 "cells": [
  {
   "cell_type": "code",
   "execution_count": 3,
   "metadata": {
    "collapsed": false
   },
   "outputs": [
    {
     "ename": "FileNotFoundError",
     "evalue": "[Errno 2] No such file or directory: '../fairData/author.txt'",
     "output_type": "error",
     "traceback": [
      "\u001b[0;31m---------------------------------------------------------------------------\u001b[0m",
      "\u001b[0;31mFileNotFoundError\u001b[0m                         Traceback (most recent call last)",
      "\u001b[0;32m<ipython-input-3-2fd4ffaa5167>\u001b[0m in \u001b[0;36m<module>\u001b[0;34m()\u001b[0m\n\u001b[1;32m      1\u001b[0m \u001b[0mdataPath\u001b[0m \u001b[0;34m=\u001b[0m \u001b[0;34m'../fairData/'\u001b[0m\u001b[0;34m\u001b[0m\u001b[0m\n\u001b[1;32m      2\u001b[0m \u001b[0mauthors\u001b[0m \u001b[0;34m=\u001b[0m \u001b[0;34m[\u001b[0m\u001b[0;34m]\u001b[0m\u001b[0;34m\u001b[0m\u001b[0m\n\u001b[0;32m----> 3\u001b[0;31m \u001b[0;32mwith\u001b[0m \u001b[0mopen\u001b[0m\u001b[0;34m(\u001b[0m\u001b[0mdataPath\u001b[0m\u001b[0;34m+\u001b[0m\u001b[0;34m'author.txt'\u001b[0m\u001b[0;34m)\u001b[0m \u001b[0;32mas\u001b[0m \u001b[0mf\u001b[0m\u001b[0;34m:\u001b[0m\u001b[0;34m\u001b[0m\u001b[0m\n\u001b[0m\u001b[1;32m      4\u001b[0m     \u001b[0;32mfor\u001b[0m \u001b[0mline\u001b[0m \u001b[0;32min\u001b[0m \u001b[0mf\u001b[0m\u001b[0;34m:\u001b[0m\u001b[0;34m\u001b[0m\u001b[0m\n\u001b[1;32m      5\u001b[0m         \u001b[0mline\u001b[0m \u001b[0;34m=\u001b[0m \u001b[0mline\u001b[0m\u001b[0;34m.\u001b[0m\u001b[0mstrip\u001b[0m\u001b[0;34m(\u001b[0m\u001b[0;34m)\u001b[0m\u001b[0;34m\u001b[0m\u001b[0m\n",
      "\u001b[0;31mFileNotFoundError\u001b[0m: [Errno 2] No such file or directory: '../fairData/author.txt'"
     ]
    }
   ],
   "source": [
    "dataPath = '../fairData/'\n",
    "authors = []\n",
    "with open(dataPath+'author.txt') as f:\n",
    "    for line in f:\n",
    "        line = line.strip()\n",
    "        if not line: continue\n",
    "        authors.append(line.split()[0])\n",
    "# papers\n",
    "papers = []\n",
    "with open(dataPath+'paper.txt') as f:\n",
    "    for line in f:\n",
    "        line = line.strip()\n",
    "        if not line: continue\n",
    "        papers.append(line.split()[0])\n",
    "\n",
    "# PositiveReview\n",
    "positive_review_rel = dict()\n",
    "with open(dataPath+'positiveReview.txt') as f:\n",
    "    for line in f:\n",
    "        line = line.strip()\n",
    "        if not line: continue\n",
    "        [reviewer, paper, truth] = line.split()\n",
    "        positive_review_rel[(reviewer, paper)] = float(truth)\n",
    "\n",
    "# PositiveSummary\n",
    "positive_summary_rel = dict()\n",
    "with open(dataPath+'positiveSummary.txt') as f:\n",
    "    for line in f:\n",
    "        line = line.strip()\n",
    "        if not line: continue\n",
    "        [paper, truth] = line.split()\n",
    "        positive_summary_rel[paper]= float(truth)\n",
    "\n",
    "# Acceptable\n",
    "acceptable_rel = dict()\n",
    "with open(dataPath+'acceptable.txt') as f:\n",
    "    for line in f:\n",
    "        line = line.strip()\n",
    "        if not line: continue\n",
    "        [paper, truth] = line.split()\n",
    "        acceptable_rel[paper] = float(truth)\n",
    "\n",
    "# Submits\n",
    "submits_rel = dict()\n",
    "with open(dataPath+'submits.txt') as f:\n",
    "    for line in f:\n",
    "        line = line.strip()\n",
    "        if not line: continue\n",
    "        [author, paper, truth] = line.split()\n",
    "        submits_rel[(author, paper)] = float(truth)\n"
   ]
  }
 ],
 "metadata": {
  "kernelspec": {
   "display_name": "Python 3",
   "language": "python",
   "name": "python3"
  },
  "language_info": {
   "codemirror_mode": {
    "name": "ipython",
    "version": 3
   },
   "file_extension": ".py",
   "mimetype": "text/x-python",
   "name": "python",
   "nbconvert_exporter": "python",
   "pygments_lexer": "ipython3",
   "version": "3.5.2"
  }
 },
 "nbformat": 4,
 "nbformat_minor": 1
}
