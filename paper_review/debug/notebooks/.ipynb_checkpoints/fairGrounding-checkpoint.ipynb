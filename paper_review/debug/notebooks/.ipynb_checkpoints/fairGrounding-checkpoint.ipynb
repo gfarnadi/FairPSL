{
 "cells": [
  {
   "cell_type": "code",
   "execution_count": 5,
   "metadata": {
    "collapsed": true
   },
   "outputs": [],
   "source": [
    "import os\n",
    "from os import listdir\n",
    "from os.path import isfile, join\n",
    "\n",
    "\n",
    "def readLines(file_name):\n",
    "    items = []\n",
    "    if os.path.exists(file_name):\n",
    "        f = open(file_name)\n",
    "        lines = f.readlines()\n",
    "        f.close()\n",
    "        for line in lines:\n",
    "            item = line.replace('\\n', '')\n",
    "            items.append(item)\n",
    "        return items\n",
    "    else:\n",
    "        return None \n",
    "    \n",
    "    \n",
    "def readAtomData(atomFile):\n",
    "    lines = readLines(atomFile)\n",
    "    atomDict = {}\n",
    "    for line in lines:\n",
    "        items = line.split('\\t')\n",
    "        if (len(items)==2):\n",
    "            key = items[0].replace(' ','')\n",
    "            value = items[1].replace(' ','')\n",
    "            atomDict[key] = value\n",
    "    return atomDict"
   ]
  },
  {
   "cell_type": "code",
   "execution_count": 6,
   "metadata": {
    "collapsed": false
   },
   "outputs": [
    {
     "name": "stdout",
     "output_type": "stream",
     "text": [
      "{'senior(Jack)': '1', 'PositiveOpinion(Joe,SRL)': '?', 'senior(James)': '1', 'PositiveOpinion(Alice,OR)': '?', 'AssignedPaper(Ted,SRL)': '1', 'senior(Ben)': '0', 'highQuality(SRL)': '?', 'affiliated(Alice, ZU)': '1', 'PositiveOpinion(Ben,CP)': '?', 'AssignedPaper(Joe,SRL)': '1', 'PositiveOpinion(Ted,SRL)': '?', 'senior(Carol)': '1', 'affiliated(Sarah, UCSC)': '1', 'AssignedPaper(Ben,CP)': '1', 'highRank(ZU)': '0', 'senior(Joe)': '0', 'highRank(Stanford)': '1', 'Accept(OR)': '?', 'highQuality(OR)': '?', 'affiliated(John, ZU)': '1', 'Submit(James, SRL)': '1', 'PositiveOpinion(James,ML)': '?', 'affiliated(Ted, UCSC)': '1', 'AssignedPaper(Sarah,OR)': '1', 'affiliated(Joe, ZU)': '1', 'AssignedPaper(Jack,SRL)': '1', 'senior(Alice)': '1', 'senior(Bob)': '0', 'affiliated(Ada, Stanford)': '1', 'affiliated(Bob, Stanford)': '1', 'PositiveOpinion(Sarah,OR)': '?', 'highRank(UCSC)': '1', 'PositiveOpinion(Ada,ML)': '?', 'Accept(SRL)': '?', 'Accept(CP)': '?', 'Accept(ML)': '?', 'Submit(Ted, OR)': '1', 'highRank(DPU)': '0', 'senior(Sarah)': '1', 'affiliated(Ben, Stanford)': '1', 'affiliated(James, DPU)': '1', 'Submit(Carol, SRL)': '1', 'Submit(Alice, ML)': '1', 'AssignedPaper(James,ML)': '1', 'PositiveOpinion(James,CP)': '?', 'AssignedPaper(James,CP)': '1', 'Submit(John, ML)': '1', 'AssignedPaper(Carol,CP)': '1', 'PositiveOpinion(Sarah,ML)': '?', 'affiliated(Jack, UCSC)': '1', 'AssignedPaper(Sarah,ML)': '1', 'Submit(Bob, CP)': '1', 'Submit(Jack, OR)': '1', 'senior(John)': '0', 'AssignedPaper(Ada,OR)': '1', 'affiliated(Carol, DPU)': '1', 'PositiveOpinion(Carol,CP)': '?', 'PositiveOpinion(Ada,OR)': '?', 'senior(Ted)': '0', 'PositiveOpinion(Jack,SRL)': '?', 'AssignedPaper(Ada,ML)': '1', 'highQuality(ML)': '?', 'highQuality(CP)': '?', 'senior(Ada)': '1', 'AssignedPaper(Alice,OR)': '1'}\n"
     ]
    }
   ],
   "source": [
    "atomFile = '../fairData/atomData/atom.txt' \n",
    "atomDict = readAtomData(atomFile)\n",
    "print (atomDict)\n",
    "        "
   ]
  },
  {
   "cell_type": "code",
   "execution_count": null,
   "metadata": {
    "collapsed": true
   },
   "outputs": [],
   "source": []
  }
 ],
 "metadata": {
  "kernelspec": {
   "display_name": "Python [Root]",
   "language": "python",
   "name": "Python [Root]"
  },
  "language_info": {
   "codemirror_mode": {
    "name": "ipython",
    "version": 3
   },
   "file_extension": ".py",
   "mimetype": "text/x-python",
   "name": "python",
   "nbconvert_exporter": "python",
   "pygments_lexer": "ipython3",
   "version": "3.5.2"
  }
 },
 "nbformat": 4,
 "nbformat_minor": 0
}
