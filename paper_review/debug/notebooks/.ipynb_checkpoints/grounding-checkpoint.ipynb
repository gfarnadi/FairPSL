{
 "cells": [
  {
   "cell_type": "code",
   "execution_count": 39,
   "metadata": {
    "collapsed": true
   },
   "outputs": [],
   "source": [
    "import os\n",
    "from os import listdir\n",
    "from os.path import isfile, join\n",
    "\n",
    "\n",
    "\n",
    "def loadDataToDB(folderPath):\n",
    "    files = [f for f in listdir(folderPath)]\n",
    "    dataDictionary = {}\n",
    "    for f in files:\n",
    "        predicateSymbol = f.replace('.txt', '')\n",
    "        lines = readLines(join(folderPath, f))\n",
    "        dict = {}\n",
    "        for line in lines:\n",
    "            if (len(line)>0):\n",
    "                items = line.split('\\t')\n",
    "                n= len(items)\n",
    "                truthValue = 1.0\n",
    "                try:\n",
    "                    truthValue = float(items[n-1])\n",
    "                    args = items[:n-1]\n",
    "                except:\n",
    "                    args = items[:n]\n",
    "                #we do not allow more than 2 args\n",
    "                if len(args)==2:\n",
    "                    if args[0] in dict:\n",
    "                        arg1Dict = dict[args[0]]\n",
    "                    else:\n",
    "                        arg1Dict = {}\n",
    "                    arg1Dict[args[1]] = truthValue\n",
    "                    dict[args[0]] = arg1Dict\n",
    "                elif len(args)==1:\n",
    "                    arg1Dict = {}\n",
    "                    arg1Dict[args[0]] = truthValue\n",
    "                    dict[args[0]] = arg1Dict\n",
    "            dataDictionary[predicateSymbol] = dict\n",
    "    return dataDictionary\n",
    "            "
   ]
  },
  {
   "cell_type": "code",
   "execution_count": 40,
   "metadata": {
    "collapsed": true
   },
   "outputs": [],
   "source": [
    "def readLines(file_name):\n",
    "    items = []\n",
    "    if os.path.exists(file_name):\n",
    "        f = open(file_name)\n",
    "        lines = f.readlines()\n",
    "        f.close()\n",
    "        for line in lines:\n",
    "            item = line.replace('\\n', '')\n",
    "            items.append(item)\n",
    "        return items\n",
    "    else:\n",
    "        return None "
   ]
  },
  {
   "cell_type": "code",
   "execution_count": 38,
   "metadata": {
    "collapsed": false
   },
   "outputs": [
    {
     "name": "stdout",
     "output_type": "stream",
     "text": [
      ".DS_Store\n"
     ]
    },
    {
     "ename": "UnicodeDecodeError",
     "evalue": "'utf-8' codec can't decode byte 0x80 in position 3131: invalid start byte",
     "output_type": "error",
     "traceback": [
      "\u001b[0;31m---------------------------------------------------------------------------\u001b[0m",
      "\u001b[0;31mUnicodeDecodeError\u001b[0m                        Traceback (most recent call last)",
      "\u001b[0;32m<ipython-input-38-7d393a0684b0>\u001b[0m in \u001b[0;36m<module>\u001b[0;34m()\u001b[0m\n\u001b[1;32m      1\u001b[0m \u001b[0mfolderPath\u001b[0m \u001b[0;34m=\u001b[0m \u001b[0;34m'../fairData/'\u001b[0m\u001b[0;34m\u001b[0m\u001b[0m\n\u001b[0;32m----> 2\u001b[0;31m \u001b[0mdataDictionary\u001b[0m \u001b[0;34m=\u001b[0m \u001b[0mloadDataToDB\u001b[0m\u001b[0;34m(\u001b[0m\u001b[0mfolderPath\u001b[0m\u001b[0;34m)\u001b[0m\u001b[0;34m\u001b[0m\u001b[0m\n\u001b[0m\u001b[1;32m      3\u001b[0m \u001b[0mprint\u001b[0m \u001b[0;34m(\u001b[0m\u001b[0mdataDictionary\u001b[0m\u001b[0;34m)\u001b[0m\u001b[0;34m\u001b[0m\u001b[0m\n",
      "\u001b[0;32m<ipython-input-36-159ac5b774e8>\u001b[0m in \u001b[0;36mloadDataToDB\u001b[0;34m(folderPath)\u001b[0m\n\u001b[1;32m     11\u001b[0m         \u001b[0mpredicateSymbol\u001b[0m \u001b[0;34m=\u001b[0m \u001b[0mf\u001b[0m\u001b[0;34m.\u001b[0m\u001b[0mreplace\u001b[0m\u001b[0;34m(\u001b[0m\u001b[0;34m'.txt'\u001b[0m\u001b[0;34m,\u001b[0m \u001b[0;34m''\u001b[0m\u001b[0;34m)\u001b[0m\u001b[0;34m\u001b[0m\u001b[0m\n\u001b[1;32m     12\u001b[0m         \u001b[0mprint\u001b[0m\u001b[0;34m(\u001b[0m\u001b[0mpredicateSymbol\u001b[0m\u001b[0;34m)\u001b[0m\u001b[0;34m\u001b[0m\u001b[0m\n\u001b[0;32m---> 13\u001b[0;31m         \u001b[0mlines\u001b[0m \u001b[0;34m=\u001b[0m \u001b[0mreadLines\u001b[0m\u001b[0;34m(\u001b[0m\u001b[0mjoin\u001b[0m\u001b[0;34m(\u001b[0m\u001b[0mfolderPath\u001b[0m\u001b[0;34m,\u001b[0m \u001b[0mf\u001b[0m\u001b[0;34m)\u001b[0m\u001b[0;34m)\u001b[0m\u001b[0;34m\u001b[0m\u001b[0m\n\u001b[0m\u001b[1;32m     14\u001b[0m         \u001b[0mdict\u001b[0m \u001b[0;34m=\u001b[0m \u001b[0;34m{\u001b[0m\u001b[0;34m}\u001b[0m\u001b[0;34m\u001b[0m\u001b[0m\n\u001b[1;32m     15\u001b[0m         \u001b[0;32mfor\u001b[0m \u001b[0mline\u001b[0m \u001b[0;32min\u001b[0m \u001b[0mlines\u001b[0m\u001b[0;34m:\u001b[0m\u001b[0;34m\u001b[0m\u001b[0m\n",
      "\u001b[0;32m<ipython-input-37-1013a2a93054>\u001b[0m in \u001b[0;36mreadLines\u001b[0;34m(file_name)\u001b[0m\n\u001b[1;32m      3\u001b[0m     \u001b[0;32mif\u001b[0m \u001b[0mos\u001b[0m\u001b[0;34m.\u001b[0m\u001b[0mpath\u001b[0m\u001b[0;34m.\u001b[0m\u001b[0mexists\u001b[0m\u001b[0;34m(\u001b[0m\u001b[0mfile_name\u001b[0m\u001b[0;34m)\u001b[0m\u001b[0;34m:\u001b[0m\u001b[0;34m\u001b[0m\u001b[0m\n\u001b[1;32m      4\u001b[0m         \u001b[0mf\u001b[0m \u001b[0;34m=\u001b[0m \u001b[0mopen\u001b[0m\u001b[0;34m(\u001b[0m\u001b[0mfile_name\u001b[0m\u001b[0;34m)\u001b[0m\u001b[0;34m\u001b[0m\u001b[0m\n\u001b[0;32m----> 5\u001b[0;31m         \u001b[0mlines\u001b[0m \u001b[0;34m=\u001b[0m \u001b[0mf\u001b[0m\u001b[0;34m.\u001b[0m\u001b[0mreadlines\u001b[0m\u001b[0;34m(\u001b[0m\u001b[0;34m)\u001b[0m\u001b[0;34m\u001b[0m\u001b[0m\n\u001b[0m\u001b[1;32m      6\u001b[0m         \u001b[0mf\u001b[0m\u001b[0;34m.\u001b[0m\u001b[0mclose\u001b[0m\u001b[0;34m(\u001b[0m\u001b[0;34m)\u001b[0m\u001b[0;34m\u001b[0m\u001b[0m\n\u001b[1;32m      7\u001b[0m         \u001b[0;32mfor\u001b[0m \u001b[0mline\u001b[0m \u001b[0;32min\u001b[0m \u001b[0mlines\u001b[0m\u001b[0;34m:\u001b[0m\u001b[0;34m\u001b[0m\u001b[0m\n",
      "\u001b[0;32m/Users/Gfarnadi/anaconda/lib/python3.5/codecs.py\u001b[0m in \u001b[0;36mdecode\u001b[0;34m(self, input, final)\u001b[0m\n\u001b[1;32m    319\u001b[0m         \u001b[0;31m# decode input (taking the buffer into account)\u001b[0m\u001b[0;34m\u001b[0m\u001b[0;34m\u001b[0m\u001b[0m\n\u001b[1;32m    320\u001b[0m         \u001b[0mdata\u001b[0m \u001b[0;34m=\u001b[0m \u001b[0mself\u001b[0m\u001b[0;34m.\u001b[0m\u001b[0mbuffer\u001b[0m \u001b[0;34m+\u001b[0m \u001b[0minput\u001b[0m\u001b[0;34m\u001b[0m\u001b[0m\n\u001b[0;32m--> 321\u001b[0;31m         \u001b[0;34m(\u001b[0m\u001b[0mresult\u001b[0m\u001b[0;34m,\u001b[0m \u001b[0mconsumed\u001b[0m\u001b[0;34m)\u001b[0m \u001b[0;34m=\u001b[0m \u001b[0mself\u001b[0m\u001b[0;34m.\u001b[0m\u001b[0m_buffer_decode\u001b[0m\u001b[0;34m(\u001b[0m\u001b[0mdata\u001b[0m\u001b[0;34m,\u001b[0m \u001b[0mself\u001b[0m\u001b[0;34m.\u001b[0m\u001b[0merrors\u001b[0m\u001b[0;34m,\u001b[0m \u001b[0mfinal\u001b[0m\u001b[0;34m)\u001b[0m\u001b[0;34m\u001b[0m\u001b[0m\n\u001b[0m\u001b[1;32m    322\u001b[0m         \u001b[0;31m# keep undecoded input until the next call\u001b[0m\u001b[0;34m\u001b[0m\u001b[0;34m\u001b[0m\u001b[0m\n\u001b[1;32m    323\u001b[0m         \u001b[0mself\u001b[0m\u001b[0;34m.\u001b[0m\u001b[0mbuffer\u001b[0m \u001b[0;34m=\u001b[0m \u001b[0mdata\u001b[0m\u001b[0;34m[\u001b[0m\u001b[0mconsumed\u001b[0m\u001b[0;34m:\u001b[0m\u001b[0;34m]\u001b[0m\u001b[0;34m\u001b[0m\u001b[0m\n",
      "\u001b[0;31mUnicodeDecodeError\u001b[0m: 'utf-8' codec can't decode byte 0x80 in position 3131: invalid start byte"
     ]
    }
   ],
   "source": [
    "folderPath = '../data/' \n",
    "dataDictionary = loadDataToDB(folderPath)\n",
    "print (dataDictionary)"
   ]
  },
  {
   "cell_type": "code",
   "execution_count": 30,
   "metadata": {
    "collapsed": true
   },
   "outputs": [],
   "source": [
    "def makeAtomDictionary(dataDictionary): \n",
    "    atomDictionary = {} \n",
    "    for predicate in dataDictionary:\n",
    "         predicateDict = dataDictionary[predicate]\n",
    "         for arg in predicateDict:\n",
    "             values = predicateDict[arg]\n",
    "             for arg2 in values:\n",
    "                 if (arg2 ==arg):\n",
    "                     atom = predicate+'('+arg+')'\n",
    "                     atomDictionary[atom] = values[arg2]\n",
    "                 else:\n",
    "                     atom = predicate+'('+arg+','+arg2+')'\n",
    "                     atomDictionary[atom] = values[arg2]\n",
    "    return atomDictionary"
   ]
  },
  {
   "cell_type": "code",
   "execution_count": 28,
   "metadata": {
    "collapsed": false
   },
   "outputs": [
    {
     "name": "stdout",
     "output_type": "stream",
     "text": [
      "{'likes_obs(Alex,Veggies)': 1.0, 'knows_truth(Arti,Steve)': 1.0, 'likes_obs(Sabina,Machine Learning)': 1.0, 'knows_truth(Ben,Jay)': 1.0, 'knows_truth(Ben,Arti)': 1.0, 'knows_targets(Elena,Ben)': 1, 'knows_truth(Alex,Steve)': 1.0, 'knows_targets(Steve,Arti)': 1, 'knows_truth(Steve,Sabina)': 0.0, 'knows_targets(Dhanya,Ben)': 1, 'likes_obs(Ben,Hiking)': 0.8, 'knows_targets(Jay,Dhanya)': 1, 'knows_truth(Jay,Alex)': 1.0, 'lived_obs(Steve,New Jersey)': 1, 'knows_truth(Dhanya,Jay)': 1.0, 'lived_obs(Jay,Pennsylvania)': 1, 'knows_targets(Sabina,Elena)': 1, 'knows_targets(Ben,Steve)': 1, 'likes_obs(Steve,Machine Learning)': 1.0, 'knows_obs(Ben,Dhanya)': 1, 'knows_obs(Sabina,Dhanya)': 1, 'knows_targets(Dhanya,Jay)': 1, 'lived_obs(Ben,Washington)': 1, 'lived_obs(Jay,New Jersey)': 1, 'likes_obs(Ben,Veggies)': 0.4, 'lived_obs(Ben,Maryland)': 1, 'lived_obs(Dhanya,Washington)': 1, 'knows_targets(Jay,Alex)': 1, 'likes_obs(Jay,Climbing)': 0.8, 'knows_targets(Arti,Jay)': 1, 'knows_truth(Steve,Dhanya)': 1.0, 'lived_obs(Ben,Pennsylvania)': 1, 'lived_obs(Sabina,New York)': 1, 'knows_truth(Ben,Sabina)': 0.0, 'knows_truth(Dhanya,Ben)': 1.0, 'knows_targets(Steve,Ben)': 1, 'knows_truth(Steve,Ben)': 1.0, 'knows_targets(Sabina,Ben)': 1, 'knows_truth(Arti,Jay)': 1.0, 'lived_obs(Arti,Maryland)': 1, 'knows_targets(Alex,Ben)': 1, 'knows_truth(Elena,Alex)': 0.0, 'likes_obs(Steve,Sports)': 1.0, 'knows_truth(Alex,Elena)': 0.0, 'knows_targets(Elena,Alex)': 1, 'knows_truth(Jay,Dhanya)': 1.0, 'likes_obs(Ben,Machine Learning)': 1.0, 'knows_targets(Elena,Dhanya)': 1, 'knows_truth(Sabina,Arti)': 1.0, 'lived_obs(Elena,Maryland)': 1, 'lived_obs(Steve,California)': 1, 'knows_truth(Dhanya,Steve)': 0.0, 'likes_obs(Elena,Veggies)': 0.4, 'knows_truth(Sabina,Jay)': 1.0, 'likes_obs(Sabina,Education)': 1.0, 'knows_targets(Jay,Arti)': 1, 'knows_targets(Dhanya,Elena)': 1, 'knows_truth(Steve,Alex)': 1.0, 'knows_targets(Dhanya,Alex)': 1, 'likes_obs(Arti,Machine Learning)': 1.0, 'knows_truth(Steve,Jay)': 1.0, 'lived_obs(Arti,California)': 1, 'likes_obs(Steve,Veggies)': 0.6, 'knows_truth(Arti,Elena)': 0.0, 'knows_targets(Arti,Dhanya)': 1, 'likes_obs(Sabina,Veggies)': 1.0, 'knows_targets(Alex,Arti)': 1, 'knows_targets(Steve,Elena)': 1, 'knows_truth(Jay,Elena)': 1.0, 'likes_obs(Dhanya,Veggies)': 0.6, 'knows_targets(Ben,Jay)': 1, 'likes_obs(Jay,Machine Learning)': 1.0, 'likes_obs(Dhanya,Climbing)': 0.6, 'likes_obs(Elena,Machine Learning)': 1.0, 'likes_obs(Ben,Skeeball)': 1.0, 'knows_targets(Ben,Alex)': 1, 'likes_obs(Dhanya,Hiking)': 0.6, 'knows_obs(Arti,Alex)': 1, 'knows_truth(Arti,Dhanya)': 1.0, 'knows_truth(Steve,Elena)': 1.0, 'knows_truth(Elena,Ben)': 1.0, 'knows_obs(Ben,Elena)': 1, 'knows_truth(Jay,Arti)': 1.0, 'lived_obs(Steve,Maryland)': 1, 'knows_truth(Alex,Arti)': 1.0, 'knows_truth(Arti,Sabina)': 1.0, 'knows_targets(Jay,Sabina)': 1, 'knows_targets(Elena,Jay)': 1, 'knows_targets(Jay,Steve)': 1, 'knows_truth(Ben,Alex)': 1.0, 'likes_obs(Arti,Veggies)': 1.0, 'knows_targets(Sabina,Jay)': 1, 'likes_obs(Jay,Veggies)': 1.0, 'knows_targets(Dhanya,Arti)': 1, 'knows_targets(Alex,Elena)': 1, 'knows_truth(Arti,Ben)': 1.0, 'knows_truth(Dhanya,Sabina)': 1.0, 'likes_obs(Arti,Education)': 1.0, 'likes_obs(Ben,Sports)': 0.8, 'knows_truth(Steve,Arti)': 1.0, 'knows_truth(Jay,Steve)': 1.0, 'likes_obs(Dhanya,Machine Learning)': 1.0, 'knows_truth(Dhanya,Elena)': 0.0, 'lived_obs(Jay,Maryland)': 1, 'lived_obs(Dhanya,California)': 1, 'knows_targets(Sabina,Arti)': 1, 'likes_obs(Jay,Trivia)': 1.0, 'knows_truth(Jay,Ben)': 1.0, 'knows_targets(Ben,Sabina)': 1, 'knows_targets(Elena,Sabina)': 1, 'knows_targets(Sabina,Steve)': 1, 'knows_truth(Dhanya,Alex)': 0.0, 'knows_targets(Arti,Steve)': 1, 'lived_obs(Elena,Illinois)': 1, 'knows_targets(Alex,Dhanya)': 1, 'likes_obs(Steve,Trivia)': 0.8, 'lived_obs(Sabina,California)': 1, 'knows_truth(Ben,Steve)': 1.0, 'knows_targets(Jay,Ben)': 1, 'knows_truth(Alex,Dhanya)': 0.0, 'likes_obs(Alex,Machine Learning)': 1.0, 'knows_truth(Alex,Sabina)': 0.0, 'knows_targets(Steve,Alex)': 1, 'knows_targets(Alex,Sabina)': 1, 'knows_targets(Dhanya,Steve)': 1, 'knows_truth(Jay,Sabina)': 1.0, 'knows_truth(Sabina,Ben)': 0.0, 'knows_targets(Arti,Elena)': 1, 'likes_obs(Sabina,Trivia)': 0.6, 'likes_obs(Steve,Skeeball)': 1.0, 'likes_obs(Jay,Skeeball)': 0.8, 'knows_truth(Elena,Arti)': 0.0, 'knows_truth(Elena,Dhanya)': 0.0, 'knows_truth(Elena,Sabina)': 0.0, 'knows_targets(Sabina,Alex)': 1, 'lived_obs(Arti,New York)': 1, 'lived_obs(Ben,New York)': 1, 'knows_truth(Elena,Steve)': 1.0, 'knows_targets(Elena,Steve)': 1, 'knows_targets(Arti,Sabina)': 1, 'knows_targets(Alex,Steve)': 1, 'lived_obs(Jay,California)': 1, 'knows_targets(Ben,Arti)': 1, 'knows_targets(Steve,Sabina)': 1, 'knows_targets(Dhanya,Sabina)': 1, 'knows_targets(Steve,Dhanya)': 1, 'knows_truth(Alex,Jay)': 1.0, 'knows_targets(Jay,Elena)': 1, 'knows_truth(Sabina,Alex)': 0.0, 'knows_targets(Arti,Ben)': 1, 'knows_targets(Alex,Jay)': 1, 'knows_targets(Steve,Jay)': 1, 'knows_truth(Alex,Ben)': 1.0, 'knows_truth(Elena,Jay)': 1.0, 'knows_truth(Sabina,Elena)': 0.0, 'likes_obs(Steve,Hiking)': 0.6, 'lived_obs(Alex,Maryland)': 1, 'knows_truth(Sabina,Steve)': 0.0, 'knows_targets(Elena,Arti)': 1, 'knows_truth(Dhanya,Arti)': 1.0, 'likes_obs(Sabina,Climbing)': 1.0}\n"
     ]
    }
   ],
   "source": [
    "atomDictionary = makeAtomDictionary(dataDictionary)\n",
    "print(atomDictionary)"
   ]
  },
  {
   "cell_type": "code",
   "execution_count": null,
   "metadata": {
    "collapsed": true
   },
   "outputs": [],
   "source": []
  },
  {
   "cell_type": "code",
   "execution_count": null,
   "metadata": {
    "collapsed": true
   },
   "outputs": [],
   "source": []
  }
 ],
 "metadata": {
  "kernelspec": {
   "display_name": "Python [Root]",
   "language": "python",
   "name": "Python [Root]"
  },
  "language_info": {
   "codemirror_mode": {
    "name": "ipython",
    "version": 3
   },
   "file_extension": ".py",
   "mimetype": "text/x-python",
   "name": "python",
   "nbconvert_exporter": "python",
   "pygments_lexer": "ipython3",
   "version": "3.5.2"
  }
 },
 "nbformat": 4,
 "nbformat_minor": 0
}
