{
 "cells": [
  {
   "cell_type": "code",
   "execution_count": 39,
   "metadata": {
    "collapsed": true
   },
   "outputs": [],
   "source": [
    "import os\n",
    "from os import listdir\n",
    "from os.path import isfile, join\n",
    "\n",
    "\n",
    "\n",
    "def loadDataToDB(folderPath):\n",
    "    files = [f for f in listdir(folderPath)]\n",
    "    dataDictionary = {}\n",
    "    for f in files:\n",
    "        predicateSymbol = f.replace('.txt', '')\n",
    "        lines = readLines(join(folderPath, f))\n",
    "        dict = {}\n",
    "        for line in lines:\n",
    "            if (len(line)>0):\n",
    "                items = line.split('\\t')\n",
    "                n= len(items)\n",
    "                truthValue = 1.0\n",
    "                try:\n",
    "                    truthValue = float(items[n-1])\n",
    "                    args = items[:n-1]\n",
    "                except:\n",
    "                    args = items[:n]\n",
    "                #we do not allow more than 2 args\n",
    "                if len(args)==2:\n",
    "                    if args[0] in dict:\n",
    "                        arg1Dict = dict[args[0]]\n",
    "                    else:\n",
    "                        arg1Dict = {}\n",
    "                    arg1Dict[args[1]] = truthValue\n",
    "                    dict[args[0]] = arg1Dict\n",
    "                elif len(args)==1:\n",
    "                    arg1Dict = {}\n",
    "                    arg1Dict[args[0]] = truthValue\n",
    "                    dict[args[0]] = arg1Dict\n",
    "            dataDictionary[predicateSymbol] = dict\n",
    "    return dataDictionary\n",
    "            "
   ]
  },
  {
   "cell_type": "code",
   "execution_count": 40,
   "metadata": {
    "collapsed": true
   },
   "outputs": [],
   "source": [
    "def readLines(file_name):\n",
    "    items = []\n",
    "    if os.path.exists(file_name):\n",
    "        f = open(file_name)\n",
    "        lines = f.readlines()\n",
    "        f.close()\n",
    "        for line in lines:\n",
    "            item = line.replace('\\n', '')\n",
    "            items.append(item)\n",
    "        return items\n",
    "    else:\n",
    "        return None "
   ]
  },
  {
   "cell_type": "code",
   "execution_count": 41,
   "metadata": {
    "collapsed": false
   },
   "outputs": [
    {
     "name": "stdout",
     "output_type": "stream",
     "text": [
      "['knows_obs.txt', 'knows_targets.txt', 'knows_truth.txt', 'likes_obs.txt', 'lived_obs.txt']\n",
      "{'likes_obs': {'Elena': {'Veggies': 0.4, 'Machine Learning': 1.0}, 'Dhanya': {'Hiking': 0.6, 'Veggies': 0.6, 'Climbing': 0.6, 'Machine Learning': 1.0}, 'Steve': {'Machine Learning': 1.0, 'Skeeball': 1.0, 'Hiking': 0.6, 'Veggies': 0.6, 'Trivia': 0.8, 'Sports': 1.0}, 'Alex': {'Veggies': 1.0, 'Machine Learning': 1.0}, 'Jay': {'Climbing': 0.8, 'Veggies': 1.0, 'Trivia': 1.0, 'Machine Learning': 1.0, 'Skeeball': 0.8}, 'Arti': {'Education': 1.0, 'Veggies': 1.0, 'Machine Learning': 1.0}, 'Ben': {'Hiking': 0.8, 'Veggies': 0.4, 'Sports': 0.8, 'Machine Learning': 1.0, 'Skeeball': 1.0}, 'Sabina': {'Climbing': 1.0, 'Education': 1.0, 'Veggies': 1.0, 'Trivia': 0.6, 'Machine Learning': 1.0}}, 'knows_truth': {'Elena': {'Dhanya': 0.0, 'Steve': 1.0, 'Arti': 0.0, 'Jay': 1.0, 'Alex': 0.0, 'Ben': 1.0, 'Sabina': 0.0}, 'Dhanya': {'Elena': 0.0, 'Sabina': 1.0, 'Steve': 0.0, 'Alex': 0.0, 'Jay': 1.0, 'Arti': 1.0, 'Ben': 1.0}, 'Steve': {'Elena': 1.0, 'Sabina': 0.0, 'Dhanya': 1.0, 'Arti': 1.0, 'Jay': 1.0, 'Alex': 1.0, 'Ben': 1.0}, 'Alex': {'Elena': 0.0, 'Dhanya': 0.0, 'Steve': 1.0, 'Arti': 1.0, 'Jay': 1.0, 'Ben': 1.0, 'Sabina': 0.0}, 'Jay': {'Elena': 1.0, 'Dhanya': 1.0, 'Steve': 1.0, 'Arti': 1.0, 'Alex': 1.0, 'Ben': 1.0, 'Sabina': 1.0}, 'Arti': {'Elena': 0.0, 'Steve': 1.0, 'Dhanya': 1.0, 'Jay': 1.0, 'Ben': 1.0, 'Sabina': 1.0}, 'Ben': {'Arti': 1.0, 'Jay': 1.0, 'Sabina': 0.0, 'Steve': 1.0, 'Alex': 1.0}, 'Sabina': {'Elena': 0.0, 'Steve': 0.0, 'Alex': 0.0, 'Jay': 1.0, 'Arti': 1.0, 'Ben': 0.0}}, 'knows_obs': {'Ben': {'Elena': 1.0, 'Dhanya': 1.0}, 'Sabina': {'Dhanya': 1.0}, 'Arti': {'Alex': 1.0}}, 'knows_targets': {'Elena': {'Dhanya': 1.0, 'Steve': 1.0, 'Arti': 1.0, 'Jay': 1.0, 'Alex': 1.0, 'Ben': 1.0, 'Sabina': 1.0}, 'Dhanya': {'Elena': 1.0, 'Sabina': 1.0, 'Steve': 1.0, 'Alex': 1.0, 'Jay': 1.0, 'Arti': 1.0, 'Ben': 1.0}, 'Steve': {'Elena': 1.0, 'Sabina': 1.0, 'Dhanya': 1.0, 'Arti': 1.0, 'Jay': 1.0, 'Alex': 1.0, 'Ben': 1.0}, 'Alex': {'Elena': 1.0, 'Dhanya': 1.0, 'Steve': 1.0, 'Arti': 1.0, 'Jay': 1.0, 'Ben': 1.0, 'Sabina': 1.0}, 'Jay': {'Elena': 1.0, 'Dhanya': 1.0, 'Steve': 1.0, 'Arti': 1.0, 'Alex': 1.0, 'Ben': 1.0, 'Sabina': 1.0}, 'Arti': {'Elena': 1.0, 'Steve': 1.0, 'Dhanya': 1.0, 'Jay': 1.0, 'Ben': 1.0, 'Sabina': 1.0}, 'Ben': {'Arti': 1.0, 'Jay': 1.0, 'Sabina': 1.0, 'Steve': 1.0, 'Alex': 1.0}, 'Sabina': {'Elena': 1.0, 'Steve': 1.0, 'Alex': 1.0, 'Jay': 1.0, 'Arti': 1.0, 'Ben': 1.0}}, 'lived_obs': {'Elena': {'Illinois': 1.0, 'Maryland': 1.0}, 'Dhanya': {'Washington': 1.0, 'California': 1.0}, 'Steve': {'California': 1.0, 'Maryland': 1.0, 'New Jersey': 1.0}, 'Alex': {'Maryland': 1.0}, 'Jay': {'Pennsylvania': 1.0, 'California': 1.0, 'Maryland': 1.0, 'New Jersey': 1.0}, 'Arti': {'New York': 1.0, 'California': 1.0, 'Maryland': 1.0}, 'Ben': {'New York': 1.0, 'Pennsylvania': 1.0, 'Maryland': 1.0, 'Washington': 1.0}, 'Sabina': {'New York': 1.0, 'California': 1.0}}}\n"
     ]
    }
   ],
   "source": [
    "folderPath = '../data/' \n",
    "dataDictionary = loadDataToDB(folderPath)\n",
    "print (dataDictionary)"
   ]
  },
  {
   "cell_type": "code",
   "execution_count": 30,
   "metadata": {
    "collapsed": true
   },
   "outputs": [],
   "source": [
    "def makeAtomDictionary(dataDictionary): \n",
    "    atomDictionary = {} \n",
    "    for predicate in dataDictionary:\n",
    "         predicateDict = dataDictionary[predicate]\n",
    "         for arg in predicateDict:\n",
    "             values = predicateDict[arg]\n",
    "             for arg2 in values:\n",
    "                 if (arg2 ==arg):\n",
    "                     atom = predicate+'('+arg+')'\n",
    "                     atomDictionary[atom] = values[arg2]\n",
    "                 else:\n",
    "                     atom = predicate+'('+arg+','+arg2+')'\n",
    "                     atomDictionary[atom] = values[arg2]\n",
    "    return atomDictionary"
   ]
  },
  {
   "cell_type": "code",
   "execution_count": 28,
   "metadata": {
    "collapsed": false
   },
   "outputs": [
    {
     "name": "stdout",
     "output_type": "stream",
     "text": [
      "{'likes_obs(Alex,Veggies)': 1.0, 'knows_truth(Arti,Steve)': 1.0, 'likes_obs(Sabina,Machine Learning)': 1.0, 'knows_truth(Ben,Jay)': 1.0, 'knows_truth(Ben,Arti)': 1.0, 'knows_targets(Elena,Ben)': 1, 'knows_truth(Alex,Steve)': 1.0, 'knows_targets(Steve,Arti)': 1, 'knows_truth(Steve,Sabina)': 0.0, 'knows_targets(Dhanya,Ben)': 1, 'likes_obs(Ben,Hiking)': 0.8, 'knows_targets(Jay,Dhanya)': 1, 'knows_truth(Jay,Alex)': 1.0, 'lived_obs(Steve,New Jersey)': 1, 'knows_truth(Dhanya,Jay)': 1.0, 'lived_obs(Jay,Pennsylvania)': 1, 'knows_targets(Sabina,Elena)': 1, 'knows_targets(Ben,Steve)': 1, 'likes_obs(Steve,Machine Learning)': 1.0, 'knows_obs(Ben,Dhanya)': 1, 'knows_obs(Sabina,Dhanya)': 1, 'knows_targets(Dhanya,Jay)': 1, 'lived_obs(Ben,Washington)': 1, 'lived_obs(Jay,New Jersey)': 1, 'likes_obs(Ben,Veggies)': 0.4, 'lived_obs(Ben,Maryland)': 1, 'lived_obs(Dhanya,Washington)': 1, 'knows_targets(Jay,Alex)': 1, 'likes_obs(Jay,Climbing)': 0.8, 'knows_targets(Arti,Jay)': 1, 'knows_truth(Steve,Dhanya)': 1.0, 'lived_obs(Ben,Pennsylvania)': 1, 'lived_obs(Sabina,New York)': 1, 'knows_truth(Ben,Sabina)': 0.0, 'knows_truth(Dhanya,Ben)': 1.0, 'knows_targets(Steve,Ben)': 1, 'knows_truth(Steve,Ben)': 1.0, 'knows_targets(Sabina,Ben)': 1, 'knows_truth(Arti,Jay)': 1.0, 'lived_obs(Arti,Maryland)': 1, 'knows_targets(Alex,Ben)': 1, 'knows_truth(Elena,Alex)': 0.0, 'likes_obs(Steve,Sports)': 1.0, 'knows_truth(Alex,Elena)': 0.0, 'knows_targets(Elena,Alex)': 1, 'knows_truth(Jay,Dhanya)': 1.0, 'likes_obs(Ben,Machine Learning)': 1.0, 'knows_targets(Elena,Dhanya)': 1, 'knows_truth(Sabina,Arti)': 1.0, 'lived_obs(Elena,Maryland)': 1, 'lived_obs(Steve,California)': 1, 'knows_truth(Dhanya,Steve)': 0.0, 'likes_obs(Elena,Veggies)': 0.4, 'knows_truth(Sabina,Jay)': 1.0, 'likes_obs(Sabina,Education)': 1.0, 'knows_targets(Jay,Arti)': 1, 'knows_targets(Dhanya,Elena)': 1, 'knows_truth(Steve,Alex)': 1.0, 'knows_targets(Dhanya,Alex)': 1, 'likes_obs(Arti,Machine Learning)': 1.0, 'knows_truth(Steve,Jay)': 1.0, 'lived_obs(Arti,California)': 1, 'likes_obs(Steve,Veggies)': 0.6, 'knows_truth(Arti,Elena)': 0.0, 'knows_targets(Arti,Dhanya)': 1, 'likes_obs(Sabina,Veggies)': 1.0, 'knows_targets(Alex,Arti)': 1, 'knows_targets(Steve,Elena)': 1, 'knows_truth(Jay,Elena)': 1.0, 'likes_obs(Dhanya,Veggies)': 0.6, 'knows_targets(Ben,Jay)': 1, 'likes_obs(Jay,Machine Learning)': 1.0, 'likes_obs(Dhanya,Climbing)': 0.6, 'likes_obs(Elena,Machine Learning)': 1.0, 'likes_obs(Ben,Skeeball)': 1.0, 'knows_targets(Ben,Alex)': 1, 'likes_obs(Dhanya,Hiking)': 0.6, 'knows_obs(Arti,Alex)': 1, 'knows_truth(Arti,Dhanya)': 1.0, 'knows_truth(Steve,Elena)': 1.0, 'knows_truth(Elena,Ben)': 1.0, 'knows_obs(Ben,Elena)': 1, 'knows_truth(Jay,Arti)': 1.0, 'lived_obs(Steve,Maryland)': 1, 'knows_truth(Alex,Arti)': 1.0, 'knows_truth(Arti,Sabina)': 1.0, 'knows_targets(Jay,Sabina)': 1, 'knows_targets(Elena,Jay)': 1, 'knows_targets(Jay,Steve)': 1, 'knows_truth(Ben,Alex)': 1.0, 'likes_obs(Arti,Veggies)': 1.0, 'knows_targets(Sabina,Jay)': 1, 'likes_obs(Jay,Veggies)': 1.0, 'knows_targets(Dhanya,Arti)': 1, 'knows_targets(Alex,Elena)': 1, 'knows_truth(Arti,Ben)': 1.0, 'knows_truth(Dhanya,Sabina)': 1.0, 'likes_obs(Arti,Education)': 1.0, 'likes_obs(Ben,Sports)': 0.8, 'knows_truth(Steve,Arti)': 1.0, 'knows_truth(Jay,Steve)': 1.0, 'likes_obs(Dhanya,Machine Learning)': 1.0, 'knows_truth(Dhanya,Elena)': 0.0, 'lived_obs(Jay,Maryland)': 1, 'lived_obs(Dhanya,California)': 1, 'knows_targets(Sabina,Arti)': 1, 'likes_obs(Jay,Trivia)': 1.0, 'knows_truth(Jay,Ben)': 1.0, 'knows_targets(Ben,Sabina)': 1, 'knows_targets(Elena,Sabina)': 1, 'knows_targets(Sabina,Steve)': 1, 'knows_truth(Dhanya,Alex)': 0.0, 'knows_targets(Arti,Steve)': 1, 'lived_obs(Elena,Illinois)': 1, 'knows_targets(Alex,Dhanya)': 1, 'likes_obs(Steve,Trivia)': 0.8, 'lived_obs(Sabina,California)': 1, 'knows_truth(Ben,Steve)': 1.0, 'knows_targets(Jay,Ben)': 1, 'knows_truth(Alex,Dhanya)': 0.0, 'likes_obs(Alex,Machine Learning)': 1.0, 'knows_truth(Alex,Sabina)': 0.0, 'knows_targets(Steve,Alex)': 1, 'knows_targets(Alex,Sabina)': 1, 'knows_targets(Dhanya,Steve)': 1, 'knows_truth(Jay,Sabina)': 1.0, 'knows_truth(Sabina,Ben)': 0.0, 'knows_targets(Arti,Elena)': 1, 'likes_obs(Sabina,Trivia)': 0.6, 'likes_obs(Steve,Skeeball)': 1.0, 'likes_obs(Jay,Skeeball)': 0.8, 'knows_truth(Elena,Arti)': 0.0, 'knows_truth(Elena,Dhanya)': 0.0, 'knows_truth(Elena,Sabina)': 0.0, 'knows_targets(Sabina,Alex)': 1, 'lived_obs(Arti,New York)': 1, 'lived_obs(Ben,New York)': 1, 'knows_truth(Elena,Steve)': 1.0, 'knows_targets(Elena,Steve)': 1, 'knows_targets(Arti,Sabina)': 1, 'knows_targets(Alex,Steve)': 1, 'lived_obs(Jay,California)': 1, 'knows_targets(Ben,Arti)': 1, 'knows_targets(Steve,Sabina)': 1, 'knows_targets(Dhanya,Sabina)': 1, 'knows_targets(Steve,Dhanya)': 1, 'knows_truth(Alex,Jay)': 1.0, 'knows_targets(Jay,Elena)': 1, 'knows_truth(Sabina,Alex)': 0.0, 'knows_targets(Arti,Ben)': 1, 'knows_targets(Alex,Jay)': 1, 'knows_targets(Steve,Jay)': 1, 'knows_truth(Alex,Ben)': 1.0, 'knows_truth(Elena,Jay)': 1.0, 'knows_truth(Sabina,Elena)': 0.0, 'likes_obs(Steve,Hiking)': 0.6, 'lived_obs(Alex,Maryland)': 1, 'knows_truth(Sabina,Steve)': 0.0, 'knows_targets(Elena,Arti)': 1, 'knows_truth(Dhanya,Arti)': 1.0, 'likes_obs(Sabina,Climbing)': 1.0}\n"
     ]
    }
   ],
   "source": [
    "atomDictionary = makeAtomDictionary(dataDictionary)\n",
    "print(atomDictionary)"
   ]
  },
  {
   "cell_type": "code",
   "execution_count": null,
   "metadata": {
    "collapsed": true
   },
   "outputs": [],
   "source": []
  },
  {
   "cell_type": "code",
   "execution_count": null,
   "metadata": {
    "collapsed": true
   },
   "outputs": [],
   "source": []
  }
 ],
 "metadata": {
  "kernelspec": {
   "display_name": "Python [Root]",
   "language": "python",
   "name": "Python [Root]"
  },
  "language_info": {
   "codemirror_mode": {
    "name": "ipython",
    "version": 3
   },
   "file_extension": ".py",
   "mimetype": "text/x-python",
   "name": "python",
   "nbconvert_exporter": "python",
   "pygments_lexer": "ipython3",
   "version": "3.5.2"
  }
 },
 "nbformat": 4,
 "nbformat_minor": 0
}
