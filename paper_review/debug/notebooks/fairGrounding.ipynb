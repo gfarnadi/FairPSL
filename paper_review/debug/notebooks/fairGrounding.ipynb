{
 "cells": [
  {
   "cell_type": "code",
   "execution_count": null,
   "metadata": {
    "collapsed": true
   },
   "outputs": [],
   "source": [
    "import os\n",
    "from os import listdir\n",
    "from os.path import isfile, join\n",
    "\n",
    "\n",
    "def readLines(file_name):\n",
    "    items = []\n",
    "    if os.path.exists(file_name):\n",
    "        f = open(file_name)\n",
    "        lines = f.readlines()\n",
    "        f.close()\n",
    "        for line in lines:\n",
    "            item = line.replace('\\n', '')\n",
    "            items.append(item)\n",
    "        return items\n",
    "    else:\n",
    "        return None \n",
    "    \n",
    "    \n",
    "def readAtomData(atomFile):\n",
    "    lines = readLines(atomFile)\n",
    "    atomDict = {}\n",
    "    for line in lines:\n",
    "        items = line.split('\\t')\n",
    "        if (len(items)==2):\n",
    "            key = items[0].replace(' ','')\n",
    "            value = items[1].replace(' ','')\n",
    "            atomDict[key] = value\n",
    "    return atomDict"
   ]
  },
  {
   "cell_type": "code",
   "execution_count": null,
   "metadata": {
    "collapsed": false
   },
   "outputs": [],
   "source": [
    "atomFile = '../fairData/atomData/atom.txt' \n",
    "atomDict = readAtomData(atomFile)\n",
    "\n",
    "\n",
    "def groundRule():\n",
    "    \n",
    "    "
   ]
  },
  {
   "cell_type": "code",
   "execution_count": null,
   "metadata": {
    "collapsed": true
   },
   "outputs": [],
   "source": []
  }
 ],
 "metadata": {
  "kernelspec": {
   "display_name": "Python [Root]",
   "language": "python",
   "name": "Python [Root]"
  },
  "language_info": {
   "codemirror_mode": {
    "name": "ipython",
    "version": 3
   },
   "file_extension": ".py",
   "mimetype": "text/x-python",
   "name": "python",
   "nbconvert_exporter": "python",
   "pygments_lexer": "ipython3",
   "version": "3.5.2"
  }
 },
 "nbformat": 4,
 "nbformat_minor": 0
}
