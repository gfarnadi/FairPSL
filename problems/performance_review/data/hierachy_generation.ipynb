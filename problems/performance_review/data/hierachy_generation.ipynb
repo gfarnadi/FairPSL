{
 "cells": [
  {
   "cell_type": "code",
   "execution_count": 1,
   "metadata": {},
   "outputs": [],
   "source": [
    "import os, random\n",
    "import queue"
   ]
  },
  {
   "cell_type": "code",
   "execution_count": 2,
   "metadata": {},
   "outputs": [],
   "source": [
    "def hierachy_generator(k, size):\n",
    "    index = 0\n",
    "    hierachy_dict = {}\n",
    "    sub_ordinates_dict = {}\n",
    "    employees = []\n",
    "    root = 'e'+str(index)\n",
    "    index+=1\n",
    "    employees.append(root)\n",
    "    hierachy_dict[root] = []\n",
    "    sub_ordinates_dict[root] = []\n",
    "    return_nodes = queue.Queue()\n",
    "    return_nodes.put(root)\n",
    "    while index<size:\n",
    "        node = return_nodes.get()\n",
    "        hierachy_dict, sub_ordinates_dict, employees, return_nodes, index = generate_sub_ordinates(hierachy_dict, sub_ordinates_dict, employees, node, return_nodes, k , index)\n",
    "    return hierachy_dict, sub_ordinates_dict, employees, index"
   ]
  },
  {
   "cell_type": "code",
   "execution_count": 3,
   "metadata": {},
   "outputs": [],
   "source": [
    "def generate_sub_ordinates(hierachy_dict, sub_ordinates_dict, employees, node, return_nodes, k , index):\n",
    "    while len(hierachy_dict[node])<k:\n",
    "        node_new = 'e'+str(index)\n",
    "        employees.append(node_new)\n",
    "        index+=1\n",
    "        return_nodes.put(node_new)\n",
    "        hierachy_dict[node].append(node_new)\n",
    "        hierachy_dict[node_new] = []\n",
    "        sub_ordinates_dict[node_new] = [node]\n",
    "        for m in sub_ordinates_dict[node]:\n",
    "            if m in sub_ordinates_dict[node_new]:continue\n",
    "            if m==node_new: continue\n",
    "            sub_ordinates_dict[node_new].append(m)\n",
    "    return hierachy_dict, sub_ordinates_dict, employees, return_nodes, index"
   ]
  },
  {
   "cell_type": "code",
   "execution_count": 4,
   "metadata": {},
   "outputs": [],
   "source": [
    "def generate_label(hierachy_dict, sub_ordinates_dict, employees, manager_file, label_file, employees_file, delta):\n",
    "    junior_employees = []\n",
    "    with open(manager_file, 'w') as mf:\n",
    "        for e, ms in sub_ordinates_dict.items():\n",
    "            for m in ms:\n",
    "                print('%s\\t%s'%(m,e), file=mf)\n",
    "                \n",
    "    for m,emp in hierachy_dict.items():\n",
    "        if len(emp)==0:\n",
    "            junior_employees.append(m)\n",
    "    size_A = 0        \n",
    "    with open(label_file, 'w') as lf:\n",
    "        for e in junior_employees:\n",
    "            if random.random()<delta:\n",
    "                print('%s\\tA'%(e), file=lf)\n",
    "                size_A+=1\n",
    "            else:\n",
    "                print('%s\\tB'%(e), file=lf)\n",
    "        for e in employees:\n",
    "            if e in junior_employees:continue\n",
    "            print('%s\\tB'%(e), file=lf)\n",
    "    print(size_A)        \n",
    "    with open(employees_file, 'w') as ef:\n",
    "        for e in employees:\n",
    "            print('%s'%(e), file = ef)"
   ]
  },
  {
   "cell_type": "code",
   "execution_count": 66,
   "metadata": {},
   "outputs": [],
   "source": [
    "def generate_label_2(hierachy_dict, sub_ordinates_dict, employees, manager_file, label_file, employees_file, delta):\n",
    "    junior_employees = []\n",
    "    with open(manager_file, 'w') as mf:\n",
    "        for e, ms in sub_ordinates_dict.items():\n",
    "            for m in ms:\n",
    "                print('%s\\t%s'%(m,e), file=mf)\n",
    "                \n",
    "    for m,emp in hierachy_dict.items():\n",
    "        if len(emp)==0:\n",
    "            junior_employees.append(m)\n",
    "    size_A = 0        \n",
    "    with open(label_file, 'w') as lf:\n",
    "        for e in employees:\n",
    "            if random.random()<0.5:\n",
    "                print('%s\\tA'%(e), file=lf)\n",
    "                size_A+=1\n",
    "            else:\n",
    "                print('%s\\tB'%(e), file=lf)\n",
    "    print(size_A)        \n",
    "    with open(employees_file, 'w') as ef:\n",
    "        for e in employees:\n",
    "            print('%s'%(e), file = ef)\n",
    "            "
   ]
  },
  {
   "cell_type": "code",
   "execution_count": 102,
   "metadata": {},
   "outputs": [],
   "source": [
    "def run_generator(k, size, manager_file, label_file, employees_file, delta):\n",
    "    hierachy_dict, sub_ordinates_dict, employees, index = hierachy_generator(k, size)\n",
    "    print(len(employees))\n",
    "    print(len(hierachy_dict.keys()))\n",
    "    print(len(sub_ordinates_dict.keys()))\n",
    "    #glass cieling\n",
    "    #generate_label(hierachy_dict, sub_ordinates_dict, employees, manager_file, label_file, employees_file, delta)\n",
    "    #uniform\n",
    "    generate_label_2(hierachy_dict, sub_ordinates_dict, employees, manager_file, label_file, employees_file, delta)\n",
    "    \n",
    "    "
   ]
  },
  {
   "cell_type": "code",
   "execution_count": 111,
   "metadata": {},
   "outputs": [
    {
     "name": "stdout",
     "output_type": "stream",
     "text": [
      "101\n",
      "101\n",
      "101\n",
      "50\n"
     ]
    }
   ],
   "source": [
    "k = 5\n",
    "size = 100\n",
    "manager_file = '../data/test/manager.txt'\n",
    "label_file = '../data/test/label.txt'\n",
    "employees_file = '../data/test/employee.txt'\n",
    "delta = 0.7\n",
    "run_generator(k, size, manager_file, label_file, employees_file, delta)\n",
    "\n"
   ]
  },
  {
   "cell_type": "code",
   "execution_count": null,
   "metadata": {},
   "outputs": [],
   "source": []
  },
  {
   "cell_type": "code",
   "execution_count": null,
   "metadata": {},
   "outputs": [],
   "source": []
  }
 ],
 "metadata": {
  "kernelspec": {
   "display_name": "Python 3",
   "language": "python",
   "name": "python3"
  },
  "language_info": {
   "codemirror_mode": {
    "name": "ipython",
    "version": 3
   },
   "file_extension": ".py",
   "mimetype": "text/x-python",
   "name": "python",
   "nbconvert_exporter": "python",
   "pygments_lexer": "ipython3",
   "version": "3.7.4"
  }
 },
 "nbformat": 4,
 "nbformat_minor": 2
}
