{
 "cells": [
  {
   "cell_type": "code",
   "execution_count": 2,
   "metadata": {
    "collapsed": true
   },
   "outputs": [],
   "source": [
    "import os"
   ]
  },
  {
   "cell_type": "code",
   "execution_count": 8,
   "metadata": {
    "collapsed": true
   },
   "outputs": [],
   "source": [
    "def readLines(file_name):\n",
    "    items = []\n",
    "    if os.path.exists(file_name):\n",
    "        f = open(file_name)\n",
    "        lines = f.readlines()\n",
    "        f.close()\n",
    "        for line in lines:\n",
    "            item = line.replace('\\n', '')\n",
    "            items.append(item)\n",
    "        return items\n",
    "    else:\n",
    "        return None \n",
    "\n",
    "def loadDataToDB(folderPath):\n",
    "    files = [f for f in os.listdir(folderPath)]\n",
    "    dataDictionary = {}\n",
    "    for f in files:\n",
    "        predicateSymbol = f.replace('.txt', '')\n",
    "        lines = readLines(os.path.join(folderPath, f))\n",
    "        dict = {}\n",
    "        for line in lines:\n",
    "            items = line.split('\\t')\n",
    "            n= len(items)\n",
    "            truthValue = items[n-1]\n",
    "            args = items[:n-1]\n",
    "            #we do not allow more than 2 args\n",
    "            if len(args)==2:\n",
    "                if args[0] in dict:\n",
    "                    arg1Dict = dict[args[0]]\n",
    "                    #arg2Dict = dict[args[1]]\n",
    "                else:\n",
    "                    arg1Dict = {}\n",
    "                    #arg2Dict = {}\n",
    "                arg1Dict[args[1]] = truthValue\n",
    "                dict[args[0]] = arg1Dict\n",
    "                #dict[args[1]] =arg2Dict\n",
    "            elif len(args)==1:\n",
    "                arg1Dict = {}\n",
    "                arg1Dict[args[0]] = truthValue\n",
    "                dict[args[0]] = arg1Dict\n",
    "        dataDictionary[predicateSymbol] = dict\n",
    "    return dataDictionary"
   ]
  },
  {
   "cell_type": "code",
   "execution_count": 10,
   "metadata": {
    "collapsed": false
   },
   "outputs": [],
   "source": [
    "data_dictionary = loadDataToDB('../data/')"
   ]
  },
  {
   "cell_type": "code",
   "execution_count": 21,
   "metadata": {
    "collapsed": false,
    "scrolled": true
   },
   "outputs": [
    {
     "data": {
      "text/plain": [
       "{'knows_obs': {'Arti': {'Arti': 'Alex'},\n",
       "  'Ben': {'Ben': 'Dhanya'},\n",
       "  'Sabina': {'Sabina': 'Dhanya'}},\n",
       " 'knows_targets': {'Alex': {'Alex': 'Sabina'},\n",
       "  'Arti': {'Arti': 'Sabina'},\n",
       "  'Ben': {'Ben': 'Sabina'},\n",
       "  'Dhanya': {'Dhanya': 'Sabina'},\n",
       "  'Elena': {'Elena': 'Sabina'},\n",
       "  'Jay': {'Jay': 'Sabina'},\n",
       "  'Sabina': {'Sabina': 'Arti'},\n",
       "  'Steve': {'Steve': 'Sabina'}},\n",
       " 'knows_truth': {'Alex': {'Arti': '1',\n",
       "   'Ben': '1',\n",
       "   'Dhanya': '0',\n",
       "   'Elena': '0',\n",
       "   'Jay': '1',\n",
       "   'Sabina': '0',\n",
       "   'Steve': '1'},\n",
       "  'Arti': {'Ben': '1',\n",
       "   'Dhanya': '1',\n",
       "   'Elena': '0',\n",
       "   'Jay': '1',\n",
       "   'Sabina': '1',\n",
       "   'Steve': '1'},\n",
       "  'Ben': {'Alex': '1', 'Arti': '1', 'Jay': '1', 'Sabina': '0', 'Steve': '1'},\n",
       "  'Dhanya': {'Alex': '0',\n",
       "   'Arti': '1',\n",
       "   'Ben': '1',\n",
       "   'Elena': '0',\n",
       "   'Jay': '1',\n",
       "   'Sabina': '1',\n",
       "   'Steve': '0'},\n",
       "  'Elena': {'Alex': '0',\n",
       "   'Arti': '0',\n",
       "   'Ben': '1',\n",
       "   'Dhanya': '0',\n",
       "   'Jay': '1',\n",
       "   'Sabina': '0',\n",
       "   'Steve': '1'},\n",
       "  'Jay': {'Alex': '1',\n",
       "   'Arti': '1',\n",
       "   'Ben': '1',\n",
       "   'Dhanya': '1',\n",
       "   'Elena': '1',\n",
       "   'Sabina': '1',\n",
       "   'Steve': '1'},\n",
       "  'Sabina': {'Alex': '0',\n",
       "   'Arti': '1',\n",
       "   'Ben': '0',\n",
       "   'Elena': '0',\n",
       "   'Jay': '1',\n",
       "   'Steve': '0'},\n",
       "  'Steve': {'Alex': '1',\n",
       "   'Arti': '1',\n",
       "   'Ben': '1',\n",
       "   'Dhanya': '1',\n",
       "   'Elena': '1',\n",
       "   'Jay': '1',\n",
       "   'Sabina': '0'}},\n",
       " 'likes_obs': {'Alex': {'Machine Learning': '1', 'Veggies': '1'},\n",
       "  'Arti': {'Education': '1', 'Machine Learning': '1', 'Veggies': '1'},\n",
       "  'Ben': {'Hiking': '0.8',\n",
       "   'Machine Learning': '1',\n",
       "   'Skeeball': '1',\n",
       "   'Sports': '0.8',\n",
       "   'Veggies': '0.4'},\n",
       "  'Dhanya': {'Climbing': '0.6',\n",
       "   'Hiking': '0.6',\n",
       "   'Machine Learning': '1',\n",
       "   'Veggies': '0.6'},\n",
       "  'Elena': {'Machine Learning': '1', 'Veggies': '0.4'},\n",
       "  'Jay': {'Climbing': '0.8',\n",
       "   'Machine Learning': '1',\n",
       "   'Skeeball': '0.8',\n",
       "   'Trivia': '1',\n",
       "   'Veggies': '1'},\n",
       "  'Sabina': {'Climbing': '1',\n",
       "   'Education': '1',\n",
       "   'Machine Learning': '1',\n",
       "   'Trivia': '0.6',\n",
       "   'Veggies': '1'},\n",
       "  'Steve': {'Hiking': '0.6',\n",
       "   'Machine Learning': '1',\n",
       "   'Skeeball': '1',\n",
       "   'Sports': '1',\n",
       "   'Trivia': '0.8',\n",
       "   'Veggies': '0.6'}},\n",
       " 'lived_obs': {'Alex': {'Alex': 'Maryland'},\n",
       "  'Arti': {'Arti': 'New York'},\n",
       "  'Ben': {'Ben': 'Washington'},\n",
       "  'Dhanya': {'Dhanya': 'Washington'},\n",
       "  'Elena': {'Elena': 'Illinois'},\n",
       "  'Jay': {'Jay': 'California'},\n",
       "  'Sabina': {'Sabina': 'California'},\n",
       "  'Steve': {'Steve': 'California'}}}"
      ]
     },
     "execution_count": 21,
     "metadata": {},
     "output_type": "execute_result"
    }
   ],
   "source": [
    "data_dictionary"
   ]
  },
  {
   "cell_type": "code",
   "execution_count": 15,
   "metadata": {
    "collapsed": true
   },
   "outputs": [],
   "source": [
    "def makeAtomDictionary(dataDictionary): \n",
    "    atomDictionary = {} \n",
    "    for predicate in dataDictionary:\n",
    "         predicateDict = dataDictionary[predicate]\n",
    "         for arg in predicateDict:\n",
    "             atom = predicate+'('+arg\n",
    "             values = predicateDict[arg]\n",
    "             if len(values)==1:\n",
    "                 atom = predicate+'('+arg+')'\n",
    "                 atomDictionary[atom] = values[0]\n",
    "             else:\n",
    "                 print(values)\n",
    "                 atom = predicate+'('+arg+','+values[0]+')'\n",
    "                 atomDictionary[atom] = values[1]\n",
    "    return atomDictionary "
   ]
  },
  {
   "cell_type": "code",
   "execution_count": 16,
   "metadata": {
    "collapsed": false,
    "scrolled": true
   },
   "outputs": [
    {
     "name": "stdout",
     "output_type": "stream",
     "text": [
      "{'Steve': '1', 'Jay': '1', 'Dhanya': '0', 'Ben': '1', 'Alex': '0', 'Sabina': '0', 'Arti': '0'}\n"
     ]
    },
    {
     "ename": "KeyError",
     "evalue": "0",
     "output_type": "error",
     "traceback": [
      "\u001b[0;31m---------------------------------------------------------------------------\u001b[0m",
      "\u001b[0;31mKeyError\u001b[0m                                  Traceback (most recent call last)",
      "\u001b[0;32m<ipython-input-16-25879ef32b0e>\u001b[0m in \u001b[0;36m<module>\u001b[0;34m()\u001b[0m\n\u001b[0;32m----> 1\u001b[0;31m \u001b[0matom_dictionary\u001b[0m \u001b[0;34m=\u001b[0m \u001b[0mmakeAtomDictionary\u001b[0m\u001b[0;34m(\u001b[0m\u001b[0mdata_dictionary\u001b[0m\u001b[0;34m)\u001b[0m\u001b[0;34m\u001b[0m\u001b[0m\n\u001b[0m",
      "\u001b[0;32m<ipython-input-15-c4d4859ca952>\u001b[0m in \u001b[0;36mmakeAtomDictionary\u001b[0;34m(dataDictionary)\u001b[0m\n\u001b[1;32m     11\u001b[0m              \u001b[0;32melse\u001b[0m\u001b[0;34m:\u001b[0m\u001b[0;34m\u001b[0m\u001b[0m\n\u001b[1;32m     12\u001b[0m                  \u001b[0mprint\u001b[0m\u001b[0;34m(\u001b[0m\u001b[0mvalues\u001b[0m\u001b[0;34m)\u001b[0m\u001b[0;34m\u001b[0m\u001b[0m\n\u001b[0;32m---> 13\u001b[0;31m                  \u001b[0matom\u001b[0m \u001b[0;34m=\u001b[0m \u001b[0mpredicate\u001b[0m\u001b[0;34m+\u001b[0m\u001b[0;34m'('\u001b[0m\u001b[0;34m+\u001b[0m\u001b[0marg\u001b[0m\u001b[0;34m+\u001b[0m\u001b[0;34m','\u001b[0m\u001b[0;34m+\u001b[0m\u001b[0mvalues\u001b[0m\u001b[0;34m[\u001b[0m\u001b[0;36m0\u001b[0m\u001b[0;34m]\u001b[0m\u001b[0;34m+\u001b[0m\u001b[0;34m')'\u001b[0m\u001b[0;34m\u001b[0m\u001b[0m\n\u001b[0m\u001b[1;32m     14\u001b[0m                  \u001b[0matomDictionary\u001b[0m\u001b[0;34m[\u001b[0m\u001b[0matom\u001b[0m\u001b[0;34m]\u001b[0m \u001b[0;34m=\u001b[0m \u001b[0mvalues\u001b[0m\u001b[0;34m[\u001b[0m\u001b[0;36m1\u001b[0m\u001b[0;34m]\u001b[0m\u001b[0;34m\u001b[0m\u001b[0m\n\u001b[1;32m     15\u001b[0m     \u001b[0;32mreturn\u001b[0m \u001b[0matomDictionary\u001b[0m\u001b[0;34m\u001b[0m\u001b[0m\n",
      "\u001b[0;31mKeyError\u001b[0m: 0"
     ]
    }
   ],
   "source": [
    "atom_dictionary = makeAtomDictionary(data_dictionary)"
   ]
  }
 ],
 "metadata": {
  "kernelspec": {
   "display_name": "Python 3",
   "language": "python",
   "name": "python3"
  },
  "language_info": {
   "codemirror_mode": {
    "name": "ipython",
    "version": 3
   },
   "file_extension": ".py",
   "mimetype": "text/x-python",
   "name": "python",
   "nbconvert_exporter": "python",
   "pygments_lexer": "ipython3",
   "version": "3.5.2"
  }
 },
 "nbformat": 4,
 "nbformat_minor": 1
}
